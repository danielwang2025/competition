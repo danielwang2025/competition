# 📝 我的 Jupyter Notebook 示例

欢迎使用 **Jupyter Notebook**！

## 一、Markdown 用法

- 可以写标题（用 #）
- 可以**加粗**，*斜体*
- 可以插入代码块：

```python
print("Hello Markdown!")
